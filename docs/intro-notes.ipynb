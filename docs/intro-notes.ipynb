{
 "cells": [
  {
   "attachments": {},
   "cell_type": "markdown",
   "metadata": {
    "editable": true,
    "slideshow": {
     "slide_type": ""
    },
    "tags": []
   },
   "source": [
    "# Introduction\n",
    "\n",
    "Based on Jose Storopoli's [Introduction to Julia](https://github.com/storopoli/Julia-Workshop) at JuliaCon 2022"
   ]
  },
  {
   "attachments": {},
   "cell_type": "markdown",
   "metadata": {},
   "source": [
    "## Why Julia?\n",
    "\n",
    "Julia is a great language for scientific computing:\n",
    "\n",
    "1. It's fast.\n",
    "2. It's **very fast**.\n",
    "3. You don't need C/C++, Fortran, or other \"slow-productivity\"/\"slow-prototyping\" language.\n",
    "   - Also known as the *two-language problem*.\n",
    "4. It has a friendly syntax.\n",
    "5. Very easy to install (you don't need a C++ toolchain like others programming languages).\n",
    "6. Support for Unicode and $\\LaTeX$ characters.\n",
    "   - No more `alpha` and `beta`; hello to `α` and `β`.\n",
    "7. Easy to add and prototype new algorithms that are fast straight from the gun.\n",
    "8. Great project management and reproducible environments baked into the standard library."
   ]
  },
  {
   "attachments": {},
   "cell_type": "markdown",
   "metadata": {},
   "source": [
    "## Packages\n",
    "\n",
    "Spends the first part of the tutorial describing how to work with packages. I think this is a bit misplaced. It should come early, but not be the first thing people learn...."
   ]
  },
  {
   "attachments": {},
   "cell_type": "markdown",
   "metadata": {},
   "source": [
    "## Variables\n",
    "\n",
    "Running over basic types: `Int64`, `Float64`, `Bool` and `String`.\n",
    "\n",
    "Explains `typeof()` and `methodswith()`."
   ]
  },
  {
   "cell_type": "markdown",
   "metadata": {},
   "source": []
  }
 ],
 "metadata": {
  "kernelspec": {
   "display_name": "Python 3 (ipykernel)",
   "language": "python",
   "name": "python3"
  },
  "language_info": {
   "codemirror_mode": {
    "name": "ipython",
    "version": 3
   },
   "file_extension": ".py",
   "mimetype": "text/x-python",
   "name": "python",
   "nbconvert_exporter": "python",
   "pygments_lexer": "ipython3",
   "version": "3.11.5"
  }
 },
 "nbformat": 4,
 "nbformat_minor": 4
}
