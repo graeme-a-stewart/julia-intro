{
 "cells": [
  {
   "cell_type": "markdown",
   "id": "1b43293d-69d5-48b8-b2d0-671e199a1a4e",
   "metadata": {
    "editable": true,
    "slideshow": {
     "slide_type": "slide"
    },
    "tags": []
   },
   "source": [
    "# Can you RISE in a Jupyterbook?\n",
    "\n",
    "Well, let's see!"
   ]
  },
  {
   "cell_type": "code",
   "execution_count": null,
   "id": "908ed721-3d8a-4c8d-a5e2-025bb529eb1d",
   "metadata": {},
   "outputs": [],
   "source": [
    "println(\"hello, world!\")"
   ]
  },
  {
   "cell_type": "markdown",
   "id": "7d0bc418-d6f0-4549-bd60-fbf39012c1e8",
   "metadata": {
    "editable": true,
    "slideshow": {
     "slide_type": ""
    },
    "tags": []
   },
   "source": [
    "## Hello from Julia!"
   ]
  },
  {
   "cell_type": "code",
   "execution_count": null,
   "id": "74ccd039-a521-41ef-907f-c7ae26167409",
   "metadata": {
    "editable": true,
    "slideshow": {
     "slide_type": ""
    },
    "tags": []
   },
   "outputs": [],
   "source": [
    "sum=0\n",
    "for i in 1:10\n",
    "    sum += i^2\n",
    "end"
   ]
  },
  {
   "cell_type": "code",
   "execution_count": null,
   "id": "785166ee-e060-466f-af79-8dc2cff158fe",
   "metadata": {
    "editable": true,
    "slideshow": {
     "slide_type": ""
    },
    "tags": []
   },
   "outputs": [],
   "source": [
    "println(\"The answer was $(sum)!\")"
   ]
  },
  {
   "cell_type": "code",
   "execution_count": null,
   "id": "391a7f1d-ab0c-4e2d-8994-bd04aa5af881",
   "metadata": {
    "editable": true,
    "slideshow": {
     "slide_type": ""
    },
    "tags": []
   },
   "outputs": [],
   "source": [
    "parrot(s) = join([s, s, s], \" \")"
   ]
  },
  {
   "cell_type": "code",
   "execution_count": null,
   "id": "d5a5d8e4-60bd-4bf6-b296-32c654d01ebd",
   "metadata": {
    "editable": true,
    "slideshow": {
     "slide_type": ""
    },
    "tags": []
   },
   "outputs": [],
   "source": [
    "parrot(\"pieces of eight!\")"
   ]
  },
  {
   "cell_type": "markdown",
   "id": "1018b13b-d037-4c51-bd38-f270a9e036c3",
   "metadata": {
    "editable": true,
    "slideshow": {
     "slide_type": "slide"
    },
    "tags": []
   },
   "source": [
    "# Some new information!"
   ]
  },
  {
   "cell_type": "markdown",
   "id": "98475059-db42-42cc-82ad-15629f731c4a",
   "metadata": {
    "editable": true,
    "slideshow": {
     "slide_type": ""
    },
    "tags": []
   },
   "source": [
    "This is something else that I want to show you"
   ]
  },
  {
   "cell_type": "code",
   "execution_count": null,
   "id": "c3259591-73f0-492d-b8b4-5dcbbc2e329c",
   "metadata": {
    "editable": true,
    "slideshow": {
     "slide_type": ""
    },
    "tags": []
   },
   "outputs": [],
   "source": [
    "using Plots"
   ]
  },
  {
   "cell_type": "code",
   "execution_count": null,
   "id": "017b3124-54f4-4661-843c-942fe2d5aba8",
   "metadata": {
    "editable": true,
    "slideshow": {
     "slide_type": ""
    },
    "tags": []
   },
   "outputs": [],
   "source": [
    "plot(sin, \n",
    "     x->sin(2x), \n",
    "     0, \n",
    "     2π, \n",
    "     leg=false, \n",
    "     fill=(0,:lavender))"
   ]
  },
  {
   "cell_type": "markdown",
   "id": "ddf2d05e-e532-4387-b2eb-5b4f7e0581b1",
   "metadata": {
    "editable": true,
    "slideshow": {
     "slide_type": "slide"
    },
    "tags": []
   },
   "source": [
    "## Here's some ideas that I have"
   ]
  },
  {
   "cell_type": "code",
   "execution_count": 9,
   "id": "41b12187",
   "metadata": {},
   "outputs": [
    {
     "name": "stdout",
     "output_type": "stream",
     "text": [
      "if you like\n"
     ]
    }
   ],
   "source": [
    "println(\"if you like\")"
   ]
  },
  {
   "cell_type": "code",
   "execution_count": null,
   "id": "2c1bf2ee",
   "metadata": {
    "editable": true,
    "slideshow": {
     "slide_type": ""
    },
    "tags": []
   },
   "outputs": [],
   "source": []
  }
 ],
 "metadata": {
  "kernelspec": {
   "display_name": "Julia 1.9.2",
   "language": "julia",
   "name": "julia-1.9"
  },
  "language_info": {
   "file_extension": ".jl",
   "mimetype": "application/julia",
   "name": "julia",
   "version": "1.9.3"
  }
 },
 "nbformat": 4,
 "nbformat_minor": 5
}
