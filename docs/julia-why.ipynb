{
 "cells": [
  {
   "cell_type": "markdown",
   "metadata": {
    "editable": true,
    "slideshow": {
     "slide_type": "slide"
    },
    "tags": []
   },
   "source": [
    "# Why Julia?\n",
    "\n",
    "![](images/julia-logo.svg)\n"
   ]
  },
  {
   "cell_type": "markdown",
   "metadata": {
    "editable": true,
    "slideshow": {
     "slide_type": "slide"
    },
    "tags": []
   },
   "source": [
    "## Why Julia?\n",
    "\n",
    "Julia is a great language for scientific computing. \n",
    "\n",
    "- Julia is *fast*, achieving runtime speeds comparable to C and C++\n",
    "- Julia has a friendly syntax, it is easy to learn\n",
    "    - Use unicode like `α` and `β` in your code directly\n",
    "- Julia has full support for *notebook* computing, just like Python\n",
    "- Julia has a well developed package ecosystem, with many tools for common tasks available\n",
    "- Julia has a very robust and modern package manager, making installation a breeze and reproducible environments come basically for free\n",
    "    - No need for cumbersome toolchains\n",
    "- Because of all of these features, Julia is also just a *fun* language to use 😁"
   ]
  },
  {
   "cell_type": "markdown",
   "metadata": {
    "editable": true,
    "slideshow": {
     "slide_type": "slide"
    },
    "tags": []
   },
   "source": [
    "## The Two Language Problem\n",
    "\n",
    "- Modern scientific programming suffers from the *two language problem*\n",
    "    - For developing and prototyping code a language with a fast development cycle and\n",
    "lots of high-level functionality is used - usually this is *Python*\n",
    "        - It's the language that we use in high-energy physics for much end user analysis, prototyping and fast development\n",
    "    - However, when runtime speed is required, one turns to languages which are strong in this domain, usually *C++*\n",
    "    - This is used for production code and requires much more expert programming skills\n",
    "\n",
    "Julia overcomes this problem as it is both fast to prototype with, but also very fast at runtime"
   ]
  }
 ],
 "metadata": {
  "kernelspec": {
   "display_name": "Julia 1.9.2",
   "language": "julia",
   "name": "julia-1.9"
  },
  "language_info": {
   "file_extension": ".jl",
   "mimetype": "application/julia",
   "name": "julia",
   "version": "1.9.3"
  },
  "toc": {
   "base_numbering": 1
  }
 },
 "nbformat": 4,
 "nbformat_minor": 4
}
