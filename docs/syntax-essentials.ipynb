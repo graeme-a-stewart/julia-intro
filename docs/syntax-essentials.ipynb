{
 "cells": [
  {
   "cell_type": "markdown",
   "metadata": {
    "editable": true,
    "slideshow": {
     "slide_type": "slide"
    },
    "tags": []
   },
   "source": [
    "# Julia Syntax Primer\n",
    "\n",
    "Let's run over some essential syntax in Julia. \n",
    "\n",
    "We assume here that you have familiarity with another programming language, so that concepts like variables, conditionals, functions and so on are familiar."
   ]
  },
  {
   "cell_type": "markdown",
   "metadata": {
    "editable": true,
    "slideshow": {
     "slide_type": "slide"
    },
    "tags": []
   },
   "source": [
    "## Variables\n",
    "\n",
    "A variable is a name that's bound to some value, Julia assigns values to variables using `=`.\n",
    "\n",
    "Variable names are quite flexible in Julia, as Unicode symbols can be used."
   ]
  },
  {
   "cell_type": "markdown",
   "metadata": {},
   "source": []
  },
  {
   "cell_type": "code",
   "execution_count": 20,
   "metadata": {
    "editable": true,
    "slideshow": {
     "slide_type": ""
    },
    "tags": []
   },
   "outputs": [
    {
     "data": {
      "text/plain": [
       "1.0e-9"
      ]
     },
     "execution_count": 20,
     "metadata": {},
     "output_type": "execute_result"
    }
   ],
   "source": [
    "x = 1.09\n",
    "my_amazing_string = \"a string\"\n",
    "δ = 1.0e-9"
   ]
  },
  {
   "cell_type": "markdown",
   "metadata": {
    "editable": true,
    "slideshow": {
     "slide_type": "fragment"
    },
    "tags": []
   },
   "source": [
    "*Note*: In REPL mode, Julia will print the results of the last statement's execution as output. \n",
    "Sometimes you don't want that, in which case it can be suppressed by adding a semicolon at the end of\n",
    "the statement, like this:"
   ]
  },
  {
   "cell_type": "code",
   "execution_count": 21,
   "metadata": {
    "editable": true,
    "slideshow": {
     "slide_type": ""
    },
    "tags": []
   },
   "outputs": [],
   "source": [
    "δ = 1.0e-9;"
   ]
  },
  {
   "cell_type": "markdown",
   "metadata": {
    "editable": true,
    "slideshow": {
     "slide_type": ""
    },
    "tags": []
   },
   "source": [
    "*Note*: Use of Unicode variables is very useful in the right context, e.g., mathematical symbols, but beware of Unicode characters that can be confused with each other, e.g."
   ]
  },
  {
   "cell_type": "code",
   "execution_count": 22,
   "metadata": {
    "editable": true,
    "slideshow": {
     "slide_type": ""
    },
    "tags": []
   },
   "outputs": [
    {
     "name": "stdout",
     "output_type": "stream",
     "text": [
      "Is u the same as ս? false\n"
     ]
    }
   ],
   "source": [
    "u = 1.23\n",
    "ս = 4.72\n",
    "println(\"Is u the same as ս? $(u == ս)\")"
   ]
  },
  {
   "cell_type": "markdown",
   "metadata": {
    "editable": true,
    "slideshow": {
     "slide_type": "slide"
    },
    "tags": []
   },
   "source": [
    "### Updating and Testing Variables\n",
    "\n",
    "Variables can have their values changed (except for certain `const` globals) and updated.\n",
    "\n",
    "Julia supports operators like `+=`, `-=`, `*=` and `/=` to update a variable based on its current value."
   ]
  },
  {
   "cell_type": "code",
   "execution_count": 23,
   "metadata": {
    "editable": true,
    "slideshow": {
     "slide_type": ""
    },
    "tags": []
   },
   "outputs": [
    {
     "name": "stdout",
     "output_type": "stream",
     "text": [
      "x = 8\n",
      "y = 5.0\n"
     ]
    }
   ],
   "source": [
    "x = 6\n",
    "x += 2\n",
    "println(\"x = \", x)\n",
    "y = x + 2\n",
    "y /= 2\n",
    "println(\"y = \", y)"
   ]
  },
  {
   "cell_type": "markdown",
   "metadata": {
    "editable": true,
    "slideshow": {
     "slide_type": "fragment"
    },
    "tags": []
   },
   "source": [
    "Comparative testing of values uses the usual operators (`==`, `>`, `<`, `>=`, `<=`) and returns a `bool` type, which can be `true` or `false`:"
   ]
  },
  {
   "cell_type": "code",
   "execution_count": 24,
   "metadata": {
    "editable": true,
    "slideshow": {
     "slide_type": ""
    },
    "tags": []
   },
   "outputs": [
    {
     "data": {
      "text/plain": [
       "true"
      ]
     },
     "execution_count": 24,
     "metadata": {},
     "output_type": "execute_result"
    }
   ],
   "source": [
    "x == 8"
   ]
  },
  {
   "cell_type": "code",
   "execution_count": 25,
   "metadata": {
    "editable": true,
    "slideshow": {
     "slide_type": ""
    },
    "tags": []
   },
   "outputs": [
    {
     "data": {
      "text/plain": [
       "false"
      ]
     },
     "execution_count": 25,
     "metadata": {},
     "output_type": "execute_result"
    }
   ],
   "source": [
    "y < 3"
   ]
  },
  {
   "cell_type": "markdown",
   "metadata": {
    "editable": true,
    "slideshow": {
     "slide_type": "slide"
    },
    "tags": []
   },
   "source": [
    "## Operators\n",
    "\n",
    "We already met a few operators in the last slides, which almost certainly you recognised. Julia has all the same operators as other modern programming languages."
   ]
  },
  {
   "cell_type": "markdown",
   "metadata": {
    "editable": true,
    "slideshow": {
     "slide_type": "fragment"
    },
    "tags": []
   },
   "source": [
    "## Binary Operators\n",
    "\n",
    "| Expression | Name | Description\n",
    "|---|---|---|\n",
    "| +x | unary plus | the identity operation |\n",
    "| -x | unary minus | maps values to their additive inverses |\n",
    "| x + y| binary plus | performs addition |\n",
    "|x - y\t|binary minus\t|performs subtraction|\n",
    "|x * y\t|times\t|performs multiplication|\n",
    "|x / y\t|divide\t|performs division|\n",
    "|x ÷ y\t|integer divide\t|x / y, truncated to an integer, same as `div(a,y)`|\n",
    "|x \\ y\t|inverse divide\t|equivalent to y / x|\n",
    "|x ^ y\t|power\t|raises x to the yth power|\n",
    "|x % y\t|remainder\t|same as `rem(x,y)`|"
   ]
  },
  {
   "cell_type": "markdown",
   "metadata": {
    "editable": true,
    "slideshow": {
     "slide_type": "fragment"
    },
    "tags": []
   },
   "source": [
    "Probably the most notable operator is `x^y` for power (cf. `x**y` in Python and `pow(x,y)` in C++)."
   ]
  },
  {
   "cell_type": "markdown",
   "metadata": {
    "editable": true,
    "slideshow": {
     "slide_type": "skip"
    },
    "tags": []
   },
   "source": [
    "## Exercises\n",
    "\n",
    "Try the following exercises\n",
    "\n",
    "- [Setting Variables](exercises/setting-variables.html)"
   ]
  }
 ],
 "metadata": {
  "kernelspec": {
   "display_name": "Julia 1.9.2",
   "language": "julia",
   "name": "julia-1.9"
  },
  "language_info": {
   "file_extension": ".jl",
   "mimetype": "application/julia",
   "name": "julia",
   "version": "1.9.3"
  }
 },
 "nbformat": 4,
 "nbformat_minor": 4
}
