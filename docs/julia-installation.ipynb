{
 "cells": [
  {
   "cell_type": "markdown",
   "metadata": {
    "editable": true,
    "slideshow": {
     "slide_type": "slide"
    },
    "tags": []
   },
   "source": [
    "# Installing and Running Julia\n",
    "\n",
    "Installing Julia is easy:\n",
    "\n",
    "- Go to the Julia [downloads](https://julialang.org/downloads/) page\n",
    "- Pick the installer for your platform, use the *current stable release*\n",
    "- Unpack/install locally"
   ]
  },
  {
   "cell_type": "markdown",
   "metadata": {
    "editable": true,
    "slideshow": {
     "slide_type": ""
    },
    "tags": []
   },
   "source": [
    "- If you installed a tarball, you may need to add the Julia `bin` directory to your `PATH`"
   ]
  },
  {
   "cell_type": "markdown",
   "metadata": {
    "editable": true,
    "slideshow": {
     "slide_type": "slide"
    },
    "tags": []
   },
   "source": [
    "## And then run...\n",
    "\n",
    "```julia\n",
    "➜  ~ julia\n",
    "               _\n",
    "   _       _ _(_)_     |  Documentation: https://docs.julialang.org\n",
    "  (_)     | (_) (_)    |\n",
    "   _ _   _| |_  __ _   |  Type \"?\" for help, \"]?\" for Pkg help.\n",
    "  | | | | | | |/ _` |  |\n",
    "  | | |_| | | | (_| |  |  Version 1.9.3 (2023-08-24)\n",
    " _/ |\\__'_|_|_|\\__'_|  |  Official https://julialang.org/ release\n",
    "|__/                   |\n",
    "\n",
    "julia>\n",
    "```"
   ]
  },
  {
   "cell_type": "markdown",
   "metadata": {
    "editable": true,
    "slideshow": {
     "slide_type": "slide"
    },
    "tags": []
   },
   "source": [
    "## The REPL\n",
    "\n",
    "When Julia is started from the command line it started in **REPL** mode: *read*, *evaluate*, *print*, *loop*"
   ]
  },
  {
   "cell_type": "markdown",
   "metadata": {
    "editable": true,
    "slideshow": {
     "slide_type": "subslide"
    },
    "tags": []
   },
   "source": [
    "This allows you to type Julia commands at the prompt, Julia will evalate the statement and print the result"
   ]
  },
  {
   "cell_type": "markdown",
   "metadata": {
    "editable": true,
    "slideshow": {
     "slide_type": ""
    },
    "tags": []
   },
   "source": [
    "```julia\n",
    "   _       _ _(_)_     |  Documentation: https://docs.julialang.org\n",
    "  (_)     | (_) (_)    |\n",
    "   _ _   _| |_  __ _   |  Type \"?\" for help, \"]?\" for Pkg help.\n",
    "  | | | | | | |/ _` |  |\n",
    "  | | |_| | | | (_| |  |  Version 1.9.3 (2023-08-24)\n",
    " _/ |\\__'_|_|_|\\__'_|  |  Official https://julialang.org/ release\n",
    "|__/                   |\n",
    "\n",
    "julia> println(\"hello, world!\")\n",
    "hello, world!\n",
    "\n",
    "julia> (2+3)^2\n",
    "25\n",
    "\n",
    "julia> \n",
    "```"
   ]
  },
  {
   "cell_type": "markdown",
   "metadata": {
    "editable": true,
    "slideshow": {
     "slide_type": "slide"
    },
    "tags": []
   },
   "source": [
    "## Notebooks in Julia\n",
    "\n",
    "Julia can also execute beautifully in a Jupyter notebook environment. This works in a Jupyter Lab environment and in VS Code.\n",
    "\n",
    "![](images/notebook-vscode.png)"
   ]
  },
  {
   "cell_type": "markdown",
   "metadata": {
    "editable": true,
    "slideshow": {
     "slide_type": "fragment"
    },
    "tags": []
   },
   "source": [
    "*Did you know?* The *Ju* in *Jupyter* stands for **Julia** (alongside Python and R) "
   ]
  },
  {
   "cell_type": "markdown",
   "metadata": {
    "editable": true,
    "slideshow": {
     "slide_type": "slide"
    },
    "tags": []
   },
   "source": [
    "## Julia Scipts\n",
    "\n",
    "Finally, let's just observe that Julia scripts work just as one would expect:\n",
    "\n",
    "```julia\n",
    "#! /usr/bin/env julia\n",
    "\n",
    "function main()\n",
    "    println(\"hello, world!\")\n",
    "\n",
    "    total = 0\n",
    "    for i in 1:10\n",
    "        total += i^2\n",
    "    end\n",
    "\n",
    "    println(\"The answer is $(total)\")\n",
    "end\n",
    "\n",
    "main()\n",
    "```\n"
   ]
  },
  {
   "cell_type": "markdown",
   "metadata": {
    "editable": true,
    "slideshow": {
     "slide_type": "fragment"
    },
    "tags": []
   },
   "source": [
    "So let's execute that:\n",
    "\n",
    "```sh\n",
    "$ julia julia-script.jl\n",
    "hello, world!\n",
    "The answer is 385\n",
    "```"
   ]
  },
  {
   "cell_type": "markdown",
   "metadata": {
    "editable": true,
    "slideshow": {
     "slide_type": ""
    },
    "tags": []
   },
   "source": [
    "## Exercises\n",
    "\n",
    "Try the [installation and REPL exercise](exercises/install.html).\n"
   ]
  }
 ],
 "metadata": {
  "kernelspec": {
   "display_name": "Julia 1.9.2",
   "language": "julia",
   "name": "julia-1.9"
  },
  "language_info": {
   "file_extension": ".jl",
   "mimetype": "application/julia",
   "name": "julia",
   "version": "1.9.3"
  }
 },
 "nbformat": 4,
 "nbformat_minor": 4
}
